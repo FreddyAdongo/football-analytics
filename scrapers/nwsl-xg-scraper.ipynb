{
 "cells": [
  {
   "cell_type": "code",
   "execution_count": 29,
   "id": "ff8df9e2-9b59-4303-91b7-22eb85188bd2",
   "metadata": {},
   "outputs": [],
   "source": [
    "# Get expected goals data\n",
    "import json\n",
    "import requests\n",
    "import re\n",
    "\n",
    "from  bs4 import BeautifulSoup\n",
    "\n",
    "match_url = 'https://www.nwslsoccer.com/match/7af7bd203b614dec9ced9dca5dbc4ac2/kansas-city-current-vs-utah-royals-fc'\n",
    "\n",
    "response = requests.get(match_url,\n",
    "    headers={'User-Agent': 'Mozilla/5.0 (Windows NT 10.0; Win64; x64) AppleWebKit/537.36 (KHTML, like Gecko) Chrome/128.0.0.0 Safari/537.36'}\n",
    ")"
   ]
  },
  {
   "cell_type": "code",
   "execution_count": 30,
   "id": "bfa22572-8821-4a70-b46f-da24465effde",
   "metadata": {},
   "outputs": [
    {
     "data": {
      "text/plain": [
       "[]"
      ]
     },
     "execution_count": 30,
     "metadata": {},
     "output_type": "execute_result"
    }
   ],
   "source": [
    "soup = BeautifulSoup(response.text, 'html.parser')\n",
    "\n",
    "soup.select('g[cursor=\"pointer\"]')"
   ]
  },
  {
   "cell_type": "code",
   "execution_count": 37,
   "id": "de993760-e70c-466d-a49d-9b5bf96f9a22",
   "metadata": {},
   "outputs": [],
   "source": [
    "headers = {\n",
    "    'accept': '*/*',\n",
    "    'accept-language': 'en-GB,en-US;q=0.9,en;q=0.8',\n",
    "    'if-modified-since': 'Tue, 17 Sep 2024 13:17:23 GMT',\n",
    "    'referer': 'https://www.nwslsoccer.com/',\n",
    "    'sec-ch-ua': '\"Chromium\";v=\"128\", \"Not;A=Brand\";v=\"24\", \"Google Chrome\";v=\"128\"',\n",
    "    'sec-ch-ua-mobile': '?0',\n",
    "    'sec-ch-ua-platform': '\"Windows\"',\n",
    "    'sec-fetch-dest': 'script',\n",
    "    'sec-fetch-mode': 'no-cors',\n",
    "    'sec-fetch-site': 'cross-site',\n",
    "    'user-agent': 'Mozilla/5.0 (Windows NT 10.0; Win64; x64) AppleWebKit/537.36 (KHTML, like Gecko) Chrome/128.0.0.0 Safari/537.36',\n",
    "}\n",
    "\n",
    "params = {\n",
    "    '_rt': 'c',\n",
    "    '_lcl': 'us',\n",
    "    '_fmt': 'jsonp',\n",
    "    '_clbk': 'W3ee513bff5eaa6b742f08942b74f64119ba59bb7e',\n",
    "}\n",
    "\n",
    "match_api = 'https://api.performfeeds.com/soccerdata/matchexpectedgoals/1s6fchmargfcg1d0fliiw5eqej/1t5lo0ykjhbzuo1ap8tvdql1w?_rt=c&_lcl=us&_fmt=jsonp&sps=widgets&_clbk=W369a69901d5e20c0b4c49eb2324b0e02930faaa93'\n",
    "\n",
    "response = requests.get(\n",
    "    match_api,\n",
    "    params=params,\n",
    "    headers=headers,\n",
    ")"
   ]
  },
  {
   "cell_type": "code",
   "execution_count": 39,
   "id": "183ee538-e388-41d6-9fd6-7c88ac441fae",
   "metadata": {},
   "outputs": [
    {
     "data": {
      "text/plain": [
       "<Response [400]>"
      ]
     },
     "execution_count": 39,
     "metadata": {},
     "output_type": "execute_result"
    }
   ],
   "source": [
    "response"
   ]
  },
  {
   "cell_type": "code",
   "execution_count": 19,
   "id": "26098ed1-1758-4841-9161-e259d8c24738",
   "metadata": {},
   "outputs": [
    {
     "name": "stdout",
     "output_type": "stream",
     "text": [
      "Request failed with status code: 400\n",
      "Response content: <?xml version=\"1.0\" ?><errorCode token=\"edifds5v8k4xsu0v2yvpfqlvd\" xmlns=\"http://www.performgroup.com/schema/soccerdata\">10203</errorCode>\n"
     ]
    }
   ],
   "source": [
    "if response.status_code == 200:\n",
    "    # Step 5: Remove the JSONP wrapper\n",
    "    raw_response = response.text\n",
    "    try:\n",
    "        # Strip the JSONP callback (removes the function name and parentheses)\n",
    "        json_data = raw_response[raw_response.index('(')+1 : raw_response.rindex(')')]\n",
    "        \n",
    "        # Parse the cleaned JSON string\n",
    "        data = json.loads(json_data)\n",
    "        print(\"Data retrieved successfully:\", data)\n",
    "    except json.JSONDecodeError as e:\n",
    "        print(\"Error decoding JSON:\", e)\n",
    "        print(\"Raw response text:\", raw_response)\n",
    "    except ValueError as e:\n",
    "        print(\"Error processing the JSONP response:\", e)\n",
    "else:\n",
    "    print(f\"Request failed with status code: {response.status_code}\")\n",
    "    print(\"Response content:\", response.text)"
   ]
  },
  {
   "cell_type": "code",
   "execution_count": null,
   "id": "16760434-e1b0-4590-89b2-a065b4bf082c",
   "metadata": {},
   "outputs": [],
   "source": []
  },
  {
   "cell_type": "code",
   "execution_count": 2,
   "id": "642b6c16-fc75-4e8b-8e7e-4268a52f70c2",
   "metadata": {},
   "outputs": [],
   "source": [
    "import requests\n",
    "from bs4 import BeautifulSoup\n",
    "import json \n",
    "import re\n",
    "import lxml"
   ]
  },
  {
   "cell_type": "code",
   "execution_count": 4,
   "id": "71afaa82-5695-4ec9-b2ce-4caf8080a237",
   "metadata": {},
   "outputs": [],
   "source": [
    "from selenium import webdriver\n",
    "from selenium.webdriver.chrome.service import Service\n",
    "from webdriver_manager.chrome import ChromeDriverManager"
   ]
  },
  {
   "cell_type": "code",
   "execution_count": 6,
   "id": "98359b06-357d-4f28-87ad-51047994176d",
   "metadata": {},
   "outputs": [],
   "source": [
    "match_url = 'https://www.scoresway.com/en_GB/soccer/nwsl-2025/3ducfa94ga849pfvx8bjjgt1w/match/bay-vs-chicago-stars/1xp7fb9q9vkmuwrx4wvi3pvdg/player-stats'\n",
    "match_api = 'https://api.performfeeds.com/soccerdata/matchexpectedgoals/ft1tiv1inq7v1sk3y9tv12yh5/1xp7fb9q9vkmuwrx4wvi3pvdg?_rt=c&_lcl=en&_fmt=jsonp&sps=widgets&_clbk=W3536d2c51ef3f87e299422352fe4d7304892f316a'\n",
    "\n",
    "headers = {\n",
    "    'accept': '*/*',\n",
    "    'accept-language': 'en-GB,en-US;q=0.9,en;q=0.8',\n",
    "    'if-modified-since': 'Tue, 17 Sep 2024 13:17:23 GMT',\n",
    "    'referer': 'https://www.scoresway.com/',\n",
    "    'sec-ch-ua': '\"Chromium\";v=\"128\", \"Not;A=Brand\";v=\"24\", \"Google Chrome\";v=\"128\"',\n",
    "    'sec-ch-ua-mobile': '?0',\n",
    "    'sec-ch-ua-platform': '\"Windows\"',\n",
    "    'sec-fetch-dest': 'script',\n",
    "    'sec-fetch-mode': 'no-cors',\n",
    "    'sec-fetch-site': 'cross-site',\n",
    "    'user-agent': 'Mozilla/5.0 (Windows NT 10.0; Win64; x64) AppleWebKit/537.36 (KHTML, like Gecko) Chrome/128.0.0.0 Safari/537.36',\n",
    "}\n",
    "\n",
    "page = requests.get(match_api,headers=headers)\n",
    "soup = BeautifulSoup(page.text,'lxml')"
   ]
  },
  {
   "cell_type": "code",
   "execution_count": 8,
   "id": "059bf397-30df-40ad-a822-dac11466ddb2",
   "metadata": {},
   "outputs": [],
   "source": [
    "soup2 = soup.get_text()\n",
    "soup2 = soup2.strip('W3536d2c51ef3f87e299422352fe4d7304892f316a(')\n",
    "soup2 = soup2.rstrip(')')"
   ]
  },
  {
   "cell_type": "code",
   "execution_count": 10,
   "id": "79b37537-43e1-4c9a-86df-1868b7ab60a1",
   "metadata": {
    "scrolled": true
   },
   "outputs": [
    {
     "ename": "JSONDecodeError",
     "evalue": "Extra data: line 1 column 76 (char 75)",
     "output_type": "error",
     "traceback": [
      "\u001b[1;31m---------------------------------------------------------------------------\u001b[0m",
      "\u001b[1;31mJSONDecodeError\u001b[0m                           Traceback (most recent call last)",
      "Cell \u001b[1;32mIn[10], line 1\u001b[0m\n\u001b[1;32m----> 1\u001b[0m soup \u001b[38;5;241m=\u001b[39m json\u001b[38;5;241m.\u001b[39mloads(soup2)\n",
      "File \u001b[1;32m~\\anaconda3\\Lib\\json\\__init__.py:346\u001b[0m, in \u001b[0;36mloads\u001b[1;34m(s, cls, object_hook, parse_float, parse_int, parse_constant, object_pairs_hook, **kw)\u001b[0m\n\u001b[0;32m    341\u001b[0m     s \u001b[38;5;241m=\u001b[39m s\u001b[38;5;241m.\u001b[39mdecode(detect_encoding(s), \u001b[38;5;124m'\u001b[39m\u001b[38;5;124msurrogatepass\u001b[39m\u001b[38;5;124m'\u001b[39m)\n\u001b[0;32m    343\u001b[0m \u001b[38;5;28;01mif\u001b[39;00m (\u001b[38;5;28mcls\u001b[39m \u001b[38;5;129;01mis\u001b[39;00m \u001b[38;5;28;01mNone\u001b[39;00m \u001b[38;5;129;01mand\u001b[39;00m object_hook \u001b[38;5;129;01mis\u001b[39;00m \u001b[38;5;28;01mNone\u001b[39;00m \u001b[38;5;129;01mand\u001b[39;00m\n\u001b[0;32m    344\u001b[0m         parse_int \u001b[38;5;129;01mis\u001b[39;00m \u001b[38;5;28;01mNone\u001b[39;00m \u001b[38;5;129;01mand\u001b[39;00m parse_float \u001b[38;5;129;01mis\u001b[39;00m \u001b[38;5;28;01mNone\u001b[39;00m \u001b[38;5;129;01mand\u001b[39;00m\n\u001b[0;32m    345\u001b[0m         parse_constant \u001b[38;5;129;01mis\u001b[39;00m \u001b[38;5;28;01mNone\u001b[39;00m \u001b[38;5;129;01mand\u001b[39;00m object_pairs_hook \u001b[38;5;129;01mis\u001b[39;00m \u001b[38;5;28;01mNone\u001b[39;00m \u001b[38;5;129;01mand\u001b[39;00m \u001b[38;5;129;01mnot\u001b[39;00m kw):\n\u001b[1;32m--> 346\u001b[0m     \u001b[38;5;28;01mreturn\u001b[39;00m _default_decoder\u001b[38;5;241m.\u001b[39mdecode(s)\n\u001b[0;32m    347\u001b[0m \u001b[38;5;28;01mif\u001b[39;00m \u001b[38;5;28mcls\u001b[39m \u001b[38;5;129;01mis\u001b[39;00m \u001b[38;5;28;01mNone\u001b[39;00m:\n\u001b[0;32m    348\u001b[0m     \u001b[38;5;28mcls\u001b[39m \u001b[38;5;241m=\u001b[39m JSONDecoder\n",
      "File \u001b[1;32m~\\anaconda3\\Lib\\json\\decoder.py:340\u001b[0m, in \u001b[0;36mJSONDecoder.decode\u001b[1;34m(self, s, _w)\u001b[0m\n\u001b[0;32m    338\u001b[0m end \u001b[38;5;241m=\u001b[39m _w(s, end)\u001b[38;5;241m.\u001b[39mend()\n\u001b[0;32m    339\u001b[0m \u001b[38;5;28;01mif\u001b[39;00m end \u001b[38;5;241m!=\u001b[39m \u001b[38;5;28mlen\u001b[39m(s):\n\u001b[1;32m--> 340\u001b[0m     \u001b[38;5;28;01mraise\u001b[39;00m JSONDecodeError(\u001b[38;5;124m\"\u001b[39m\u001b[38;5;124mExtra data\u001b[39m\u001b[38;5;124m\"\u001b[39m, s, end)\n\u001b[0;32m    341\u001b[0m \u001b[38;5;28;01mreturn\u001b[39;00m obj\n",
      "\u001b[1;31mJSONDecodeError\u001b[0m: Extra data: line 1 column 76 (char 75)"
     ]
    }
   ],
   "source": [
    "soup = json.loads(soup2)"
   ]
  },
  {
   "cell_type": "code",
   "execution_count": null,
   "id": "394a105c-a6b5-4ee9-a9be-5539c27878d6",
   "metadata": {},
   "outputs": [],
   "source": []
  },
  {
   "cell_type": "code",
   "execution_count": null,
   "id": "11bf2259-c525-4991-bdf9-987699840501",
   "metadata": {},
   "outputs": [],
   "source": []
  },
  {
   "cell_type": "code",
   "execution_count": null,
   "id": "dba0739f-cab8-4e20-bbc1-358d81be3098",
   "metadata": {},
   "outputs": [],
   "source": []
  }
 ],
 "metadata": {
  "kernelspec": {
   "display_name": "Python 3 (ipykernel)",
   "language": "python",
   "name": "python3"
  },
  "language_info": {
   "codemirror_mode": {
    "name": "ipython",
    "version": 3
   },
   "file_extension": ".py",
   "mimetype": "text/x-python",
   "name": "python",
   "nbconvert_exporter": "python",
   "pygments_lexer": "ipython3",
   "version": "3.11.5"
  }
 },
 "nbformat": 4,
 "nbformat_minor": 5
}
