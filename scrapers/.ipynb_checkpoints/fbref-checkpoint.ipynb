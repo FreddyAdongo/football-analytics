{
 "cells": [
  {
   "cell_type": "code",
   "execution_count": 9,
   "id": "7e07bf3c-9882-4f77-9bb8-e8b230b3f37a",
   "metadata": {},
   "outputs": [],
   "source": [
    "import pandas as pd\n",
    "import requests\n",
    "import bs4\n",
    "from bs4 import BeautifulSoup\n",
    "import os\n",
    "from pathlib import Path\n",
    "import time\n",
    "import warnings\n",
    "warnings.filterwarnings(\"ignore\")"
   ]
  },
  {
   "cell_type": "code",
   "execution_count": 11,
   "id": "1aef99ac-50d4-44a2-abb0-3a668313e8c7",
   "metadata": {},
   "outputs": [],
   "source": [
    "response = requests.get('https://fbref.com/en/comps/182/stats/NWSL-Stats')\n",
    "soup = bs4.BeautifulSoup(response.content)"
   ]
  },
  {
   "cell_type": "code",
   "execution_count": null,
   "id": "686d0a0a-527d-4634-a6d2-577f456a10d6",
   "metadata": {},
   "outputs": [],
   "source": []
  }
 ],
 "metadata": {
  "kernelspec": {
   "display_name": "Python 3 (ipykernel)",
   "language": "python",
   "name": "python3"
  },
  "language_info": {
   "codemirror_mode": {
    "name": "ipython",
    "version": 3
   },
   "file_extension": ".py",
   "mimetype": "text/x-python",
   "name": "python",
   "nbconvert_exporter": "python",
   "pygments_lexer": "ipython3",
   "version": "3.11.5"
  }
 },
 "nbformat": 4,
 "nbformat_minor": 5
}
