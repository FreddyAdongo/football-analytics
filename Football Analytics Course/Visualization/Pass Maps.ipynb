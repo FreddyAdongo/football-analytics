{
 "cells": [
  {
   "cell_type": "code",
   "execution_count": null,
   "id": "daeac5d6",
   "metadata": {},
   "outputs": [],
   "source": []
  },
  {
   "cell_type": "code",
   "execution_count": 62,
   "id": "677bd03e",
   "metadata": {},
   "outputs": [
    {
     "name": "stderr",
     "output_type": "stream",
     "text": [
      "C:\\Users\\fredd\\anaconda3\\Lib\\site-packages\\statsbombpy\\api_client.py:21: NoAuthWarning: credentials were not supplied. open data access only\n",
      "  warnings.warn(\n"
     ]
    }
   ],
   "source": [
    "import pandas as pd\n",
    "from statsbombpy import sb\n",
    "\n",
    "df = sb.events(match_id=3920396)"
   ]
  },
  {
   "cell_type": "code",
   "execution_count": 63,
   "id": "b1235645",
   "metadata": {},
   "outputs": [
    {
     "name": "stdout",
     "output_type": "stream",
     "text": [
      "player\n",
      "Mohamed Abdel Monem                          201\n",
      "Hamdi Fathi                                  189\n",
      "Mohamed Hamdy Sharaf                         188\n",
      "Ahmed Elsayed Ali Elsayed Hegazy             181\n",
      "Emam Ashour Metwally Abdelghany              178\n",
      "Jordan Ayew                                  169\n",
      "Omar Kamal Abdel Wahed                       163\n",
      "Gideon Mensah                                158\n",
      "Salis Abdul Samed                            138\n",
      "Denis Odoi                                   135\n",
      "Omar Marmoush                                133\n",
      "Mohammed Kudus                               132\n",
      "Mohamed Salisu                               129\n",
      "Antoine Semenyo                              127\n",
      "Mohamed Naser Elsayed Elneny                 119\n",
      "Alexander Djiku                              114\n",
      "Mostafa Mohamed Ahmed Abdallah               109\n",
      "Majeed Ashimeru                               90\n",
      "Mahmoud Ibrahim Hassan                        71\n",
      "Mostafa Fathi                                 69\n",
      "Iñaki Williams Arthuer                        59\n",
      "Richard Ofori Antwi                           56\n",
      "Mohamed Salah                                 54\n",
      "Iddrisu Baba Mohammed                         50\n",
      "Mohamed El Sayed Mohamed El Shenawy Gomaa     44\n",
      "Osman Bukari                                  15\n",
      "Marwan Attia Fahim Ghallab                    14\n",
      "Joseph Paintsil                               11\n",
      "Elisha Owusu                                   8\n",
      "Name: count, dtype: int64\n"
     ]
    }
   ],
   "source": [
    "print(df.player.value_counts())"
   ]
  },
  {
   "cell_type": "code",
   "execution_count": 64,
   "id": "c4a22910",
   "metadata": {},
   "outputs": [],
   "source": [
    "df = df[(df['player'] == 'Gideon Mensah') & (df['type'] == 'Pass')]"
   ]
  },
  {
   "cell_type": "code",
   "execution_count": 65,
   "id": "afc0e226",
   "metadata": {},
   "outputs": [
    {
     "data": {
      "text/html": [
       "<div>\n",
       "<style scoped>\n",
       "    .dataframe tbody tr th:only-of-type {\n",
       "        vertical-align: middle;\n",
       "    }\n",
       "\n",
       "    .dataframe tbody tr th {\n",
       "        vertical-align: top;\n",
       "    }\n",
       "\n",
       "    .dataframe thead th {\n",
       "        text-align: right;\n",
       "    }\n",
       "</style>\n",
       "<table border=\"1\" class=\"dataframe\">\n",
       "  <thead>\n",
       "    <tr style=\"text-align: right;\">\n",
       "      <th></th>\n",
       "      <th>50_50</th>\n",
       "      <th>ball_receipt_outcome</th>\n",
       "      <th>ball_recovery_recovery_failure</th>\n",
       "      <th>block_deflection</th>\n",
       "      <th>carry_end_location</th>\n",
       "      <th>clearance_aerial_won</th>\n",
       "      <th>clearance_body_part</th>\n",
       "      <th>clearance_head</th>\n",
       "      <th>clearance_left_foot</th>\n",
       "      <th>clearance_right_foot</th>\n",
       "      <th>...</th>\n",
       "      <th>shot_technique</th>\n",
       "      <th>shot_type</th>\n",
       "      <th>substitution_outcome</th>\n",
       "      <th>substitution_replacement</th>\n",
       "      <th>tactics</th>\n",
       "      <th>team</th>\n",
       "      <th>team_id</th>\n",
       "      <th>timestamp</th>\n",
       "      <th>type</th>\n",
       "      <th>under_pressure</th>\n",
       "    </tr>\n",
       "  </thead>\n",
       "  <tbody>\n",
       "    <tr>\n",
       "      <th>80</th>\n",
       "      <td>NaN</td>\n",
       "      <td>NaN</td>\n",
       "      <td>NaN</td>\n",
       "      <td>NaN</td>\n",
       "      <td>NaN</td>\n",
       "      <td>NaN</td>\n",
       "      <td>NaN</td>\n",
       "      <td>NaN</td>\n",
       "      <td>NaN</td>\n",
       "      <td>NaN</td>\n",
       "      <td>...</td>\n",
       "      <td>NaN</td>\n",
       "      <td>NaN</td>\n",
       "      <td>NaN</td>\n",
       "      <td>NaN</td>\n",
       "      <td>NaN</td>\n",
       "      <td>Ghana</td>\n",
       "      <td>4885</td>\n",
       "      <td>00:07:00.266</td>\n",
       "      <td>Pass</td>\n",
       "      <td>NaN</td>\n",
       "    </tr>\n",
       "    <tr>\n",
       "      <th>82</th>\n",
       "      <td>NaN</td>\n",
       "      <td>NaN</td>\n",
       "      <td>NaN</td>\n",
       "      <td>NaN</td>\n",
       "      <td>NaN</td>\n",
       "      <td>NaN</td>\n",
       "      <td>NaN</td>\n",
       "      <td>NaN</td>\n",
       "      <td>NaN</td>\n",
       "      <td>NaN</td>\n",
       "      <td>...</td>\n",
       "      <td>NaN</td>\n",
       "      <td>NaN</td>\n",
       "      <td>NaN</td>\n",
       "      <td>NaN</td>\n",
       "      <td>NaN</td>\n",
       "      <td>Ghana</td>\n",
       "      <td>4885</td>\n",
       "      <td>00:07:17.944</td>\n",
       "      <td>Pass</td>\n",
       "      <td>NaN</td>\n",
       "    </tr>\n",
       "    <tr>\n",
       "      <th>106</th>\n",
       "      <td>NaN</td>\n",
       "      <td>NaN</td>\n",
       "      <td>NaN</td>\n",
       "      <td>NaN</td>\n",
       "      <td>NaN</td>\n",
       "      <td>NaN</td>\n",
       "      <td>NaN</td>\n",
       "      <td>NaN</td>\n",
       "      <td>NaN</td>\n",
       "      <td>NaN</td>\n",
       "      <td>...</td>\n",
       "      <td>NaN</td>\n",
       "      <td>NaN</td>\n",
       "      <td>NaN</td>\n",
       "      <td>NaN</td>\n",
       "      <td>NaN</td>\n",
       "      <td>Ghana</td>\n",
       "      <td>4885</td>\n",
       "      <td>00:10:39.962</td>\n",
       "      <td>Pass</td>\n",
       "      <td>NaN</td>\n",
       "    </tr>\n",
       "    <tr>\n",
       "      <th>109</th>\n",
       "      <td>NaN</td>\n",
       "      <td>NaN</td>\n",
       "      <td>NaN</td>\n",
       "      <td>NaN</td>\n",
       "      <td>NaN</td>\n",
       "      <td>NaN</td>\n",
       "      <td>NaN</td>\n",
       "      <td>NaN</td>\n",
       "      <td>NaN</td>\n",
       "      <td>NaN</td>\n",
       "      <td>...</td>\n",
       "      <td>NaN</td>\n",
       "      <td>NaN</td>\n",
       "      <td>NaN</td>\n",
       "      <td>NaN</td>\n",
       "      <td>NaN</td>\n",
       "      <td>Ghana</td>\n",
       "      <td>4885</td>\n",
       "      <td>00:10:45.728</td>\n",
       "      <td>Pass</td>\n",
       "      <td>NaN</td>\n",
       "    </tr>\n",
       "    <tr>\n",
       "      <th>129</th>\n",
       "      <td>NaN</td>\n",
       "      <td>NaN</td>\n",
       "      <td>NaN</td>\n",
       "      <td>NaN</td>\n",
       "      <td>NaN</td>\n",
       "      <td>NaN</td>\n",
       "      <td>NaN</td>\n",
       "      <td>NaN</td>\n",
       "      <td>NaN</td>\n",
       "      <td>NaN</td>\n",
       "      <td>...</td>\n",
       "      <td>NaN</td>\n",
       "      <td>NaN</td>\n",
       "      <td>NaN</td>\n",
       "      <td>NaN</td>\n",
       "      <td>NaN</td>\n",
       "      <td>Ghana</td>\n",
       "      <td>4885</td>\n",
       "      <td>00:12:10.780</td>\n",
       "      <td>Pass</td>\n",
       "      <td>NaN</td>\n",
       "    </tr>\n",
       "  </tbody>\n",
       "</table>\n",
       "<p>5 rows × 88 columns</p>\n",
       "</div>"
      ],
      "text/plain": [
       "    50_50 ball_receipt_outcome ball_recovery_recovery_failure  \\\n",
       "80    NaN                  NaN                            NaN   \n",
       "82    NaN                  NaN                            NaN   \n",
       "106   NaN                  NaN                            NaN   \n",
       "109   NaN                  NaN                            NaN   \n",
       "129   NaN                  NaN                            NaN   \n",
       "\n",
       "    block_deflection carry_end_location clearance_aerial_won  \\\n",
       "80               NaN                NaN                  NaN   \n",
       "82               NaN                NaN                  NaN   \n",
       "106              NaN                NaN                  NaN   \n",
       "109              NaN                NaN                  NaN   \n",
       "129              NaN                NaN                  NaN   \n",
       "\n",
       "    clearance_body_part clearance_head clearance_left_foot  \\\n",
       "80                  NaN            NaN                 NaN   \n",
       "82                  NaN            NaN                 NaN   \n",
       "106                 NaN            NaN                 NaN   \n",
       "109                 NaN            NaN                 NaN   \n",
       "129                 NaN            NaN                 NaN   \n",
       "\n",
       "    clearance_right_foot  ... shot_technique shot_type substitution_outcome  \\\n",
       "80                   NaN  ...            NaN       NaN                  NaN   \n",
       "82                   NaN  ...            NaN       NaN                  NaN   \n",
       "106                  NaN  ...            NaN       NaN                  NaN   \n",
       "109                  NaN  ...            NaN       NaN                  NaN   \n",
       "129                  NaN  ...            NaN       NaN                  NaN   \n",
       "\n",
       "    substitution_replacement tactics   team  team_id     timestamp  type  \\\n",
       "80                       NaN     NaN  Ghana     4885  00:07:00.266  Pass   \n",
       "82                       NaN     NaN  Ghana     4885  00:07:17.944  Pass   \n",
       "106                      NaN     NaN  Ghana     4885  00:10:39.962  Pass   \n",
       "109                      NaN     NaN  Ghana     4885  00:10:45.728  Pass   \n",
       "129                      NaN     NaN  Ghana     4885  00:12:10.780  Pass   \n",
       "\n",
       "    under_pressure  \n",
       "80             NaN  \n",
       "82             NaN  \n",
       "106            NaN  \n",
       "109            NaN  \n",
       "129            NaN  \n",
       "\n",
       "[5 rows x 88 columns]"
      ]
     },
     "execution_count": 65,
     "metadata": {},
     "output_type": "execute_result"
    }
   ],
   "source": [
    "df.head()"
   ]
  },
  {
   "cell_type": "code",
   "execution_count": 66,
   "id": "c930c941",
   "metadata": {},
   "outputs": [],
   "source": [
    "df = df[['location', 'pass_end_location', 'pass_outcome']]"
   ]
  },
  {
   "cell_type": "code",
   "execution_count": 67,
   "id": "0e77798e",
   "metadata": {},
   "outputs": [
    {
     "data": {
      "text/html": [
       "<div>\n",
       "<style scoped>\n",
       "    .dataframe tbody tr th:only-of-type {\n",
       "        vertical-align: middle;\n",
       "    }\n",
       "\n",
       "    .dataframe tbody tr th {\n",
       "        vertical-align: top;\n",
       "    }\n",
       "\n",
       "    .dataframe thead th {\n",
       "        text-align: right;\n",
       "    }\n",
       "</style>\n",
       "<table border=\"1\" class=\"dataframe\">\n",
       "  <thead>\n",
       "    <tr style=\"text-align: right;\">\n",
       "      <th></th>\n",
       "      <th>location</th>\n",
       "      <th>pass_end_location</th>\n",
       "      <th>pass_outcome</th>\n",
       "    </tr>\n",
       "  </thead>\n",
       "  <tbody>\n",
       "    <tr>\n",
       "      <th>80</th>\n",
       "      <td>[49.7, 3.3]</td>\n",
       "      <td>[41.6, 17.2]</td>\n",
       "      <td>NaN</td>\n",
       "    </tr>\n",
       "    <tr>\n",
       "      <th>82</th>\n",
       "      <td>[64.9, 12.1]</td>\n",
       "      <td>[79.1, 17.2]</td>\n",
       "      <td>NaN</td>\n",
       "    </tr>\n",
       "    <tr>\n",
       "      <th>106</th>\n",
       "      <td>[38.4, 16.8]</td>\n",
       "      <td>[50.1, 24.3]</td>\n",
       "      <td>NaN</td>\n",
       "    </tr>\n",
       "    <tr>\n",
       "      <th>109</th>\n",
       "      <td>[47.4, 7.5]</td>\n",
       "      <td>[84.4, 34.7]</td>\n",
       "      <td>NaN</td>\n",
       "    </tr>\n",
       "    <tr>\n",
       "      <th>129</th>\n",
       "      <td>[48.1, 19.2]</td>\n",
       "      <td>[64.2, 10.1]</td>\n",
       "      <td>NaN</td>\n",
       "    </tr>\n",
       "  </tbody>\n",
       "</table>\n",
       "</div>"
      ],
      "text/plain": [
       "         location pass_end_location pass_outcome\n",
       "80    [49.7, 3.3]      [41.6, 17.2]          NaN\n",
       "82   [64.9, 12.1]      [79.1, 17.2]          NaN\n",
       "106  [38.4, 16.8]      [50.1, 24.3]          NaN\n",
       "109   [47.4, 7.5]      [84.4, 34.7]          NaN\n",
       "129  [48.1, 19.2]      [64.2, 10.1]          NaN"
      ]
     },
     "execution_count": 67,
     "metadata": {},
     "output_type": "execute_result"
    }
   ],
   "source": [
    "df.head()"
   ]
  },
  {
   "cell_type": "code",
   "execution_count": 68,
   "id": "24213cd5",
   "metadata": {},
   "outputs": [],
   "source": [
    "df[['x', 'y']] = df['location'].apply(pd.Series)"
   ]
  },
  {
   "cell_type": "code",
   "execution_count": 69,
   "id": "9b337651",
   "metadata": {},
   "outputs": [],
   "source": [
    "df[['end_x', 'end_y']] = df['pass_end_location'].apply(pd.Series)\n",
    "df['pass_outcome'] = df['pass_outcome'].fillna(\"Complete\")"
   ]
  },
  {
   "cell_type": "code",
   "execution_count": 70,
   "id": "da1d4c89",
   "metadata": {},
   "outputs": [],
   "source": [
    "df['entered_final_third'] = (df['end_x'] >= 80) & (df['x'] < 80)"
   ]
  },
  {
   "cell_type": "code",
   "execution_count": 71,
   "id": "70007cc9",
   "metadata": {},
   "outputs": [
    {
     "data": {
      "text/plain": [
       "entered_final_third\n",
       "False    41\n",
       "True      8\n",
       "Name: count, dtype: int64"
      ]
     },
     "execution_count": 71,
     "metadata": {},
     "output_type": "execute_result"
    }
   ],
   "source": [
    "df.entered_final_third.value_counts()"
   ]
  },
  {
   "cell_type": "code",
   "execution_count": 72,
   "id": "c4f3b2fd",
   "metadata": {},
   "outputs": [],
   "source": [
    "df = df[df['entered_final_third'] == True]"
   ]
  },
  {
   "cell_type": "code",
   "execution_count": 78,
   "id": "4a75c462",
   "metadata": {},
   "outputs": [
    {
     "data": {
      "text/plain": [
       "<matplotlib.legend.Legend at 0x1db3a3c1b90>"
      ]
     },
     "execution_count": 78,
     "metadata": {},
     "output_type": "execute_result"
    },
    {
     "data": {
      "image/png": "[encoded data removed]",
      "text/plain": [
       "<Figure size 640x480 with 1 Axes>"
      ]
     },
     "metadata": {},
     "output_type": "display_data"
    }
   ],
   "source": [
    "from mplsoccer import Pitch\n",
    "\n",
    "pitch = Pitch(pitch_type='statsbomb')\n",
    "\n",
    "fig, ax = pitch.draw()\n",
    "\n",
    "for x in df.to_dict(orient='records'):\n",
    "    if x['pass_outcome'] == \"Complete\":\n",
    "        pitch.lines(x['x'], x['y'], x['end_x'], x['end_y'], lw=1, \n",
    "                   transparent=True, comet=True, ax=ax, color='g')\n",
    "    else:\n",
    "        pitch.lines(x['x'], x['y'], x['end_x'], x['end_y'], lw=1, \n",
    "                   transparent=True, comet=True, ax=ax, color='r')\n",
    "        \n",
    "ax.set_title(\"Gideon Mensah Final Third Entries vs Egypt\\n AFCON 2023 Group Stage\",\n",
    "            fontsize=12, fontfamily=\"monospace\")\n",
    "\n",
    "from matplotlib.lines import Line2D\n",
    "\n",
    "legend_elements = [\n",
    "    Line2D([0], [0], color='g', lw=2, label='Completed Pass'),\n",
    "    Line2D([0], [0], color='r', lw=2, label='Incompleted Pass')\n",
    "]\n",
    "\n",
    "ax.legend(handles=legend_elements, loc='lower left')"
   ]
  },
  {
   "cell_type": "code",
   "execution_count": null,
   "id": "e6682b0e",
   "metadata": {},
   "outputs": [],
   "source": []
  }
 ],
 "metadata": {
  "kernelspec": {
   "display_name": "Python 3 (ipykernel)",
   "language": "python",
   "name": "python3"
  },
  "language_info": {
   "codemirror_mode": {
    "name": "ipython",
    "version": 3
   },
   "file_extension": ".py",
   "mimetype": "text/x-python",
   "name": "python",
   "nbconvert_exporter": "python",
   "pygments_lexer": "ipython3",
   "version": "3.11.5"
  }
 },
 "nbformat": 4,
 "nbformat_minor": 5
}
